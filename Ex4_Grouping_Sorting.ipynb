{
 "cells": [
  {
   "cell_type": "markdown",
   "id": "484a8ca1",
   "metadata": {
    "papermill": {
     "duration": 0.005931,
     "end_time": "2023-02-23T17:57:32.888933",
     "exception": false,
     "start_time": "2023-02-23T17:57:32.883002",
     "status": "completed"
    },
    "tags": []
   },
   "source": [
    "**This notebook is an exercise in the [Pandas](https://www.kaggle.com/learn/pandas) course.  You can reference the tutorial at [this link](https://www.kaggle.com/residentmario/grouping-and-sorting).**\n",
    "\n",
    "---\n"
   ]
  },
  {
   "cell_type": "markdown",
   "id": "39ce15e6",
   "metadata": {
    "papermill": {
     "duration": 0.004831,
     "end_time": "2023-02-23T17:57:32.899009",
     "exception": false,
     "start_time": "2023-02-23T17:57:32.894178",
     "status": "completed"
    },
    "tags": []
   },
   "source": [
    "# Introduction\n",
    "\n",
    "In these exercises we'll apply groupwise analysis to our dataset.\n",
    "\n",
    "Run the code cell below to load the data before running the exercises."
   ]
  },
  {
   "cell_type": "code",
   "execution_count": 1,
   "id": "34fa4bc0",
   "metadata": {
    "execution": {
     "iopub.execute_input": "2023-02-23T17:57:32.911578Z",
     "iopub.status.busy": "2023-02-23T17:57:32.910855Z",
     "iopub.status.idle": "2023-02-23T17:57:35.488677Z",
     "shell.execute_reply": "2023-02-23T17:57:35.486932Z"
    },
    "papermill": {
     "duration": 2.586918,
     "end_time": "2023-02-23T17:57:35.491019",
     "exception": false,
     "start_time": "2023-02-23T17:57:32.904101",
     "status": "completed"
    },
    "tags": []
   },
   "outputs": [
    {
     "name": "stdout",
     "output_type": "stream",
     "text": [
      "Setup complete.\n"
     ]
    }
   ],
   "source": [
    "import pandas as pd\n",
    "\n",
    "reviews = pd.read_csv(\"../input/wine-reviews/winemag-data-130k-v2.csv\", index_col=0)\n",
    "#pd.set_option(\"display.max_rows\", 5)\n",
    "\n",
    "from learntools.core import binder; binder.bind(globals())\n",
    "from learntools.pandas.grouping_and_sorting import *\n",
    "print(\"Setup complete.\")"
   ]
  },
  {
   "cell_type": "markdown",
   "id": "056d8003",
   "metadata": {
    "papermill": {
     "duration": 0.004819,
     "end_time": "2023-02-23T17:57:35.500995",
     "exception": false,
     "start_time": "2023-02-23T17:57:35.496176",
     "status": "completed"
    },
    "tags": []
   },
   "source": [
    "# Exercises"
   ]
  },
  {
   "cell_type": "markdown",
   "id": "e32112e7",
   "metadata": {
    "papermill": {
     "duration": 0.004886,
     "end_time": "2023-02-23T17:57:35.511759",
     "exception": false,
     "start_time": "2023-02-23T17:57:35.506873",
     "status": "completed"
    },
    "tags": []
   },
   "source": [
    "## 1.\n",
    "Who are the most common wine reviewers in the dataset? Create a `Series` whose index is the `taster_twitter_handle` category from the dataset, and whose values count how many reviews each person wrote."
   ]
  },
  {
   "cell_type": "code",
   "execution_count": 2,
   "id": "5a915e60",
   "metadata": {
    "execution": {
     "iopub.execute_input": "2023-02-23T17:57:35.523491Z",
     "iopub.status.busy": "2023-02-23T17:57:35.523105Z",
     "iopub.status.idle": "2023-02-23T17:57:35.552961Z",
     "shell.execute_reply": "2023-02-23T17:57:35.552276Z"
    },
    "papermill": {
     "duration": 0.037858,
     "end_time": "2023-02-23T17:57:35.554728",
     "exception": false,
     "start_time": "2023-02-23T17:57:35.516870",
     "status": "completed"
    },
    "tags": []
   },
   "outputs": [
    {
     "data": {
      "application/javascript": [
       "parent.postMessage({\"jupyterEvent\": \"custom.exercise_interaction\", \"data\": {\"outcomeType\": 1, \"valueTowardsCompletion\": 0.16666666666666666, \"interactionType\": 1, \"questionType\": 1, \"questionId\": \"1_ReviewsWritten\", \"learnToolsVersion\": \"0.3.4\", \"failureMessage\": \"\", \"exceptionClass\": \"\", \"trace\": \"\"}}, \"*\")"
      ],
      "text/plain": [
       "<IPython.core.display.Javascript object>"
      ]
     },
     "metadata": {},
     "output_type": "display_data"
    },
    {
     "data": {
      "text/markdown": [
       "<span style=\"color:#33cc33\">Correct:</span> \n",
       "\n",
       "\n",
       "```python\n",
       "reviews_written = reviews.groupby('taster_twitter_handle').size()\n",
       "```\n",
       "or\n",
       "```python\n",
       "reviews_written = reviews.groupby('taster_twitter_handle').taster_twitter_handle.count()\n",
       "```\n"
      ],
      "text/plain": [
       "Correct: \n",
       "\n",
       "\n",
       "```python\n",
       "reviews_written = reviews.groupby('taster_twitter_handle').size()\n",
       "```\n",
       "or\n",
       "```python\n",
       "reviews_written = reviews.groupby('taster_twitter_handle').taster_twitter_handle.count()\n",
       "```"
      ]
     },
     "metadata": {},
     "output_type": "display_data"
    }
   ],
   "source": [
    "# Your code here\n",
    "reviews_written = reviews.groupby('taster_twitter_handle').taster_twitter_handle.count()\n",
    "\n",
    "# Check your answer\n",
    "q1.check()"
   ]
  },
  {
   "cell_type": "code",
   "execution_count": 3,
   "id": "7a3b03f4",
   "metadata": {
    "execution": {
     "iopub.execute_input": "2023-02-23T17:57:35.567775Z",
     "iopub.status.busy": "2023-02-23T17:57:35.566659Z",
     "iopub.status.idle": "2023-02-23T17:57:35.571704Z",
     "shell.execute_reply": "2023-02-23T17:57:35.570511Z"
    },
    "papermill": {
     "duration": 0.014112,
     "end_time": "2023-02-23T17:57:35.574201",
     "exception": false,
     "start_time": "2023-02-23T17:57:35.560089",
     "status": "completed"
    },
    "tags": []
   },
   "outputs": [],
   "source": [
    "# q1.hint()\n",
    "# q1.solution()"
   ]
  },
  {
   "cell_type": "markdown",
   "id": "7154a19f",
   "metadata": {
    "papermill": {
     "duration": 0.00503,
     "end_time": "2023-02-23T17:57:35.584866",
     "exception": false,
     "start_time": "2023-02-23T17:57:35.579836",
     "status": "completed"
    },
    "tags": []
   },
   "source": [
    "## 2.\n",
    "What is the best wine I can buy for a given amount of money? Create a `Series` whose index is wine prices and whose values is the maximum number of points a wine costing that much was given in a review. Sort the values by price, ascending (so that `4.0` dollars is at the top and `3300.0` dollars is at the bottom)."
   ]
  },
  {
   "cell_type": "code",
   "execution_count": 4,
   "id": "81cca2be",
   "metadata": {
    "execution": {
     "iopub.execute_input": "2023-02-23T17:57:35.597026Z",
     "iopub.status.busy": "2023-02-23T17:57:35.596659Z",
     "iopub.status.idle": "2023-02-23T17:57:35.610668Z",
     "shell.execute_reply": "2023-02-23T17:57:35.609220Z"
    },
    "papermill": {
     "duration": 0.0232,
     "end_time": "2023-02-23T17:57:35.613412",
     "exception": false,
     "start_time": "2023-02-23T17:57:35.590212",
     "status": "completed"
    },
    "tags": []
   },
   "outputs": [
    {
     "data": {
      "application/javascript": [
       "parent.postMessage({\"jupyterEvent\": \"custom.exercise_interaction\", \"data\": {\"outcomeType\": 1, \"valueTowardsCompletion\": 0.16666666666666666, \"interactionType\": 1, \"questionType\": 1, \"questionId\": \"2_BestRatingPerPrice\", \"learnToolsVersion\": \"0.3.4\", \"failureMessage\": \"\", \"exceptionClass\": \"\", \"trace\": \"\"}}, \"*\")"
      ],
      "text/plain": [
       "<IPython.core.display.Javascript object>"
      ]
     },
     "metadata": {},
     "output_type": "display_data"
    },
    {
     "data": {
      "text/markdown": [
       "<span style=\"color:#33cc33\">Correct</span>"
      ],
      "text/plain": [
       "Correct"
      ]
     },
     "metadata": {},
     "output_type": "display_data"
    }
   ],
   "source": [
    "best_rating_per_price = reviews.groupby('price').points.max().sort_index()\n",
    "\n",
    "# Check your answer\n",
    "q2.check()"
   ]
  },
  {
   "cell_type": "code",
   "execution_count": 5,
   "id": "4f6b93c5",
   "metadata": {
    "execution": {
     "iopub.execute_input": "2023-02-23T17:57:35.627224Z",
     "iopub.status.busy": "2023-02-23T17:57:35.626842Z",
     "iopub.status.idle": "2023-02-23T17:57:35.631743Z",
     "shell.execute_reply": "2023-02-23T17:57:35.630349Z"
    },
    "papermill": {
     "duration": 0.014074,
     "end_time": "2023-02-23T17:57:35.633769",
     "exception": false,
     "start_time": "2023-02-23T17:57:35.619695",
     "status": "completed"
    },
    "tags": []
   },
   "outputs": [],
   "source": [
    "# q2.hint()\n",
    "# q2.solution()"
   ]
  },
  {
   "cell_type": "markdown",
   "id": "ff8c1894",
   "metadata": {
    "papermill": {
     "duration": 0.005251,
     "end_time": "2023-02-23T17:57:35.644769",
     "exception": false,
     "start_time": "2023-02-23T17:57:35.639518",
     "status": "completed"
    },
    "tags": []
   },
   "source": [
    "## 3.\n",
    "What are the minimum and maximum prices for each `variety` of wine? Create a `DataFrame` whose index is the `variety` category from the dataset and whose values are the `min` and `max` values thereof."
   ]
  },
  {
   "cell_type": "code",
   "execution_count": 6,
   "id": "0b81cdff",
   "metadata": {
    "execution": {
     "iopub.execute_input": "2023-02-23T17:57:35.657427Z",
     "iopub.status.busy": "2023-02-23T17:57:35.657033Z",
     "iopub.status.idle": "2023-02-23T17:57:35.679784Z",
     "shell.execute_reply": "2023-02-23T17:57:35.678814Z"
    },
    "papermill": {
     "duration": 0.031694,
     "end_time": "2023-02-23T17:57:35.681968",
     "exception": false,
     "start_time": "2023-02-23T17:57:35.650274",
     "status": "completed"
    },
    "tags": []
   },
   "outputs": [
    {
     "data": {
      "application/javascript": [
       "parent.postMessage({\"jupyterEvent\": \"custom.exercise_interaction\", \"data\": {\"outcomeType\": 1, \"valueTowardsCompletion\": 0.16666666666666666, \"interactionType\": 1, \"questionType\": 1, \"questionId\": \"3_PriceExtremes\", \"learnToolsVersion\": \"0.3.4\", \"failureMessage\": \"\", \"exceptionClass\": \"\", \"trace\": \"\"}}, \"*\")"
      ],
      "text/plain": [
       "<IPython.core.display.Javascript object>"
      ]
     },
     "metadata": {},
     "output_type": "display_data"
    },
    {
     "data": {
      "text/markdown": [
       "<span style=\"color:#33cc33\">Correct</span>"
      ],
      "text/plain": [
       "Correct"
      ]
     },
     "metadata": {},
     "output_type": "display_data"
    }
   ],
   "source": [
    "price_extremes = reviews.groupby(['variety']).price.agg([min, max])\n",
    "\n",
    "# Check your answer\n",
    "q3.check()"
   ]
  },
  {
   "cell_type": "code",
   "execution_count": 7,
   "id": "15aad97b",
   "metadata": {
    "execution": {
     "iopub.execute_input": "2023-02-23T17:57:35.702802Z",
     "iopub.status.busy": "2023-02-23T17:57:35.698938Z",
     "iopub.status.idle": "2023-02-23T17:57:35.710993Z",
     "shell.execute_reply": "2023-02-23T17:57:35.710064Z"
    },
    "papermill": {
     "duration": 0.022815,
     "end_time": "2023-02-23T17:57:35.713137",
     "exception": false,
     "start_time": "2023-02-23T17:57:35.690322",
     "status": "completed"
    },
    "tags": []
   },
   "outputs": [
    {
     "data": {
      "application/javascript": [
       "parent.postMessage({\"jupyterEvent\": \"custom.exercise_interaction\", \"data\": {\"interactionType\": 2, \"questionType\": 1, \"questionId\": \"3_PriceExtremes\", \"learnToolsVersion\": \"0.3.4\", \"valueTowardsCompletion\": 0.0, \"failureMessage\": \"\", \"exceptionClass\": \"\", \"trace\": \"\", \"outcomeType\": 4}}, \"*\")"
      ],
      "text/plain": [
       "<IPython.core.display.Javascript object>"
      ]
     },
     "metadata": {},
     "output_type": "display_data"
    },
    {
     "data": {
      "text/markdown": [
       "<span style=\"color:#3366cc\">Hint:</span> Use `agg()`."
      ],
      "text/plain": [
       "Hint: Use `agg()`."
      ]
     },
     "metadata": {},
     "output_type": "display_data"
    }
   ],
   "source": [
    "q3.hint()\n",
    "# q3.solution()"
   ]
  },
  {
   "cell_type": "markdown",
   "id": "61a6f4b8",
   "metadata": {
    "papermill": {
     "duration": 0.007955,
     "end_time": "2023-02-23T17:57:35.727181",
     "exception": false,
     "start_time": "2023-02-23T17:57:35.719226",
     "status": "completed"
    },
    "tags": []
   },
   "source": [
    "## 4.\n",
    "What are the most expensive wine varieties? Create a variable `sorted_varieties` containing a copy of the dataframe from the previous question where varieties are sorted in descending order based on minimum price, then on maximum price (to break ties)."
   ]
  },
  {
   "cell_type": "code",
   "execution_count": 8,
   "id": "bc04788e",
   "metadata": {
    "execution": {
     "iopub.execute_input": "2023-02-23T17:57:35.742124Z",
     "iopub.status.busy": "2023-02-23T17:57:35.741756Z",
     "iopub.status.idle": "2023-02-23T17:57:35.752740Z",
     "shell.execute_reply": "2023-02-23T17:57:35.751792Z"
    },
    "papermill": {
     "duration": 0.020579,
     "end_time": "2023-02-23T17:57:35.755202",
     "exception": false,
     "start_time": "2023-02-23T17:57:35.734623",
     "status": "completed"
    },
    "tags": []
   },
   "outputs": [
    {
     "data": {
      "application/javascript": [
       "parent.postMessage({\"jupyterEvent\": \"custom.exercise_interaction\", \"data\": {\"outcomeType\": 1, \"valueTowardsCompletion\": 0.16666666666666666, \"interactionType\": 1, \"questionType\": 1, \"questionId\": \"4_SortedVarieties\", \"learnToolsVersion\": \"0.3.4\", \"failureMessage\": \"\", \"exceptionClass\": \"\", \"trace\": \"\"}}, \"*\")"
      ],
      "text/plain": [
       "<IPython.core.display.Javascript object>"
      ]
     },
     "metadata": {},
     "output_type": "display_data"
    },
    {
     "data": {
      "text/markdown": [
       "<span style=\"color:#33cc33\">Correct</span>"
      ],
      "text/plain": [
       "Correct"
      ]
     },
     "metadata": {},
     "output_type": "display_data"
    }
   ],
   "source": [
    "sorted_varieties = price_extremes.sort_values(by = ['min', 'max'], ascending = False)\n",
    "\n",
    "# Check your answer\n",
    "q4.check()"
   ]
  },
  {
   "cell_type": "code",
   "execution_count": 9,
   "id": "e9c37391",
   "metadata": {
    "execution": {
     "iopub.execute_input": "2023-02-23T17:57:35.770276Z",
     "iopub.status.busy": "2023-02-23T17:57:35.769089Z",
     "iopub.status.idle": "2023-02-23T17:57:35.773187Z",
     "shell.execute_reply": "2023-02-23T17:57:35.772534Z"
    },
    "papermill": {
     "duration": 0.013192,
     "end_time": "2023-02-23T17:57:35.774862",
     "exception": false,
     "start_time": "2023-02-23T17:57:35.761670",
     "status": "completed"
    },
    "tags": []
   },
   "outputs": [],
   "source": [
    "# q4.hint()\n",
    "# q4.solution()"
   ]
  },
  {
   "cell_type": "markdown",
   "id": "99f47100",
   "metadata": {
    "papermill": {
     "duration": 0.005891,
     "end_time": "2023-02-23T17:57:35.787037",
     "exception": false,
     "start_time": "2023-02-23T17:57:35.781146",
     "status": "completed"
    },
    "tags": []
   },
   "source": [
    "## 5.\n",
    "Create a `Series` whose index is reviewers and whose values is the average review score given out by that reviewer. Hint: you will need the `taster_name` and `points` columns."
   ]
  },
  {
   "cell_type": "code",
   "execution_count": 10,
   "id": "854bbcc1",
   "metadata": {
    "execution": {
     "iopub.execute_input": "2023-02-23T17:57:35.801646Z",
     "iopub.status.busy": "2023-02-23T17:57:35.801281Z",
     "iopub.status.idle": "2023-02-23T17:57:35.819393Z",
     "shell.execute_reply": "2023-02-23T17:57:35.818397Z"
    },
    "papermill": {
     "duration": 0.027659,
     "end_time": "2023-02-23T17:57:35.821245",
     "exception": false,
     "start_time": "2023-02-23T17:57:35.793586",
     "status": "completed"
    },
    "tags": []
   },
   "outputs": [
    {
     "data": {
      "application/javascript": [
       "parent.postMessage({\"jupyterEvent\": \"custom.exercise_interaction\", \"data\": {\"outcomeType\": 1, \"valueTowardsCompletion\": 0.16666666666666666, \"interactionType\": 1, \"questionType\": 1, \"questionId\": \"5_ReviewerMeanRatings\", \"learnToolsVersion\": \"0.3.4\", \"failureMessage\": \"\", \"exceptionClass\": \"\", \"trace\": \"\"}}, \"*\")"
      ],
      "text/plain": [
       "<IPython.core.display.Javascript object>"
      ]
     },
     "metadata": {},
     "output_type": "display_data"
    },
    {
     "data": {
      "text/markdown": [
       "<span style=\"color:#33cc33\">Correct</span>"
      ],
      "text/plain": [
       "Correct"
      ]
     },
     "metadata": {},
     "output_type": "display_data"
    }
   ],
   "source": [
    "reviewer_mean_ratings = reviews.groupby('taster_name').points.mean()\n",
    "\n",
    "# Check your answer\n",
    "q5.check()"
   ]
  },
  {
   "cell_type": "code",
   "execution_count": 11,
   "id": "7711a018",
   "metadata": {
    "execution": {
     "iopub.execute_input": "2023-02-23T17:57:35.835390Z",
     "iopub.status.busy": "2023-02-23T17:57:35.835025Z",
     "iopub.status.idle": "2023-02-23T17:57:35.843403Z",
     "shell.execute_reply": "2023-02-23T17:57:35.842307Z"
    },
    "papermill": {
     "duration": 0.01854,
     "end_time": "2023-02-23T17:57:35.846176",
     "exception": false,
     "start_time": "2023-02-23T17:57:35.827636",
     "status": "completed"
    },
    "tags": []
   },
   "outputs": [
    {
     "data": {
      "application/javascript": [
       "parent.postMessage({\"jupyterEvent\": \"custom.exercise_interaction\", \"data\": {\"interactionType\": 2, \"questionType\": 1, \"questionId\": \"5_ReviewerMeanRatings\", \"learnToolsVersion\": \"0.3.4\", \"valueTowardsCompletion\": 0.0, \"failureMessage\": \"\", \"exceptionClass\": \"\", \"trace\": \"\", \"outcomeType\": 4}}, \"*\")"
      ],
      "text/plain": [
       "<IPython.core.display.Javascript object>"
      ]
     },
     "metadata": {},
     "output_type": "display_data"
    },
    {
     "data": {
      "text/markdown": [
       "<span style=\"color:#3366cc\">Hint:</span> Use `mean()`."
      ],
      "text/plain": [
       "Hint: Use `mean()`."
      ]
     },
     "metadata": {},
     "output_type": "display_data"
    }
   ],
   "source": [
    "q5.hint()\n",
    "# q5.solution()"
   ]
  },
  {
   "cell_type": "markdown",
   "id": "f5a3f044",
   "metadata": {
    "papermill": {
     "duration": 0.006437,
     "end_time": "2023-02-23T17:57:35.859614",
     "exception": false,
     "start_time": "2023-02-23T17:57:35.853177",
     "status": "completed"
    },
    "tags": []
   },
   "source": [
    "Are there significant differences in the average scores assigned by the various reviewers? Run the cell below to use the `describe()` method to see a summary of the range of values."
   ]
  },
  {
   "cell_type": "code",
   "execution_count": 12,
   "id": "cd1099af",
   "metadata": {
    "execution": {
     "iopub.execute_input": "2023-02-23T17:57:35.874879Z",
     "iopub.status.busy": "2023-02-23T17:57:35.874131Z",
     "iopub.status.idle": "2023-02-23T17:57:35.884804Z",
     "shell.execute_reply": "2023-02-23T17:57:35.883803Z"
    },
    "papermill": {
     "duration": 0.020349,
     "end_time": "2023-02-23T17:57:35.886649",
     "exception": false,
     "start_time": "2023-02-23T17:57:35.866300",
     "status": "completed"
    },
    "tags": []
   },
   "outputs": [
    {
     "data": {
      "text/plain": [
       "count    19.000000\n",
       "mean     88.233026\n",
       "std       1.243610\n",
       "min      85.855422\n",
       "25%      87.323501\n",
       "50%      88.536235\n",
       "75%      88.975256\n",
       "max      90.562551\n",
       "Name: points, dtype: float64"
      ]
     },
     "execution_count": 12,
     "metadata": {},
     "output_type": "execute_result"
    }
   ],
   "source": [
    "reviewer_mean_ratings.describe()"
   ]
  },
  {
   "cell_type": "markdown",
   "id": "df02c69a",
   "metadata": {
    "papermill": {
     "duration": 0.006626,
     "end_time": "2023-02-23T17:57:35.900040",
     "exception": false,
     "start_time": "2023-02-23T17:57:35.893414",
     "status": "completed"
    },
    "tags": []
   },
   "source": [
    "## 6.\n",
    "What combination of countries and varieties are most common? Create a `Series` whose index is a `MultiIndex`of `{country, variety}` pairs. For example, a pinot noir produced in the US should map to `{\"US\", \"Pinot Noir\"}`. Sort the values in the `Series` in descending order based on wine count."
   ]
  },
  {
   "cell_type": "code",
   "execution_count": 13,
   "id": "2a167b7a",
   "metadata": {
    "execution": {
     "iopub.execute_input": "2023-02-23T17:57:35.915163Z",
     "iopub.status.busy": "2023-02-23T17:57:35.914794Z",
     "iopub.status.idle": "2023-02-23T17:57:35.942614Z",
     "shell.execute_reply": "2023-02-23T17:57:35.941651Z"
    },
    "papermill": {
     "duration": 0.037808,
     "end_time": "2023-02-23T17:57:35.944573",
     "exception": false,
     "start_time": "2023-02-23T17:57:35.906765",
     "status": "completed"
    },
    "tags": []
   },
   "outputs": [
    {
     "data": {
      "application/javascript": [
       "parent.postMessage({\"jupyterEvent\": \"custom.exercise_interaction\", \"data\": {\"outcomeType\": 1, \"valueTowardsCompletion\": 0.16666666666666666, \"interactionType\": 1, \"questionType\": 1, \"questionId\": \"6_GroupbyCountryVariety\", \"learnToolsVersion\": \"0.3.4\", \"failureMessage\": \"\", \"exceptionClass\": \"\", \"trace\": \"\"}}, \"*\")"
      ],
      "text/plain": [
       "<IPython.core.display.Javascript object>"
      ]
     },
     "metadata": {},
     "output_type": "display_data"
    },
    {
     "data": {
      "text/markdown": [
       "<span style=\"color:#33cc33\">Correct</span>"
      ],
      "text/plain": [
       "Correct"
      ]
     },
     "metadata": {},
     "output_type": "display_data"
    }
   ],
   "source": [
    "country_variety_counts = reviews.groupby(['country', 'variety']).size().sort_values(ascending = False)\n",
    "\n",
    "# Check your answer\n",
    "q6.check()"
   ]
  },
  {
   "cell_type": "code",
   "execution_count": 14,
   "id": "12f1588f",
   "metadata": {
    "execution": {
     "iopub.execute_input": "2023-02-23T17:57:35.963116Z",
     "iopub.status.busy": "2023-02-23T17:57:35.962683Z",
     "iopub.status.idle": "2023-02-23T17:57:35.974158Z",
     "shell.execute_reply": "2023-02-23T17:57:35.973417Z"
    },
    "papermill": {
     "duration": 0.025683,
     "end_time": "2023-02-23T17:57:35.977573",
     "exception": false,
     "start_time": "2023-02-23T17:57:35.951890",
     "status": "completed"
    },
    "tags": []
   },
   "outputs": [
    {
     "data": {
      "application/javascript": [
       "parent.postMessage({\"jupyterEvent\": \"custom.exercise_interaction\", \"data\": {\"interactionType\": 2, \"questionType\": 1, \"questionId\": \"6_GroupbyCountryVariety\", \"learnToolsVersion\": \"0.3.4\", \"valueTowardsCompletion\": 0.0, \"failureMessage\": \"\", \"exceptionClass\": \"\", \"trace\": \"\", \"outcomeType\": 4}}, \"*\")"
      ],
      "text/plain": [
       "<IPython.core.display.Javascript object>"
      ]
     },
     "metadata": {},
     "output_type": "display_data"
    },
    {
     "data": {
      "text/markdown": [
       "<span style=\"color:#3366cc\">Hint:</span> Use `groupby()`, and provide a list of columns to group by.  You may also find `size()` and `sort_values()` to be useful!"
      ],
      "text/plain": [
       "Hint: Use `groupby()`, and provide a list of columns to group by.  You may also find `size()` and `sort_values()` to be useful!"
      ]
     },
     "metadata": {},
     "output_type": "display_data"
    },
    {
     "data": {
      "application/javascript": [
       "parent.postMessage({\"jupyterEvent\": \"custom.exercise_interaction\", \"data\": {\"interactionType\": 3, \"questionType\": 1, \"questionId\": \"6_GroupbyCountryVariety\", \"learnToolsVersion\": \"0.3.4\", \"valueTowardsCompletion\": 0.0, \"failureMessage\": \"\", \"exceptionClass\": \"\", \"trace\": \"\", \"outcomeType\": 4}}, \"*\")"
      ],
      "text/plain": [
       "<IPython.core.display.Javascript object>"
      ]
     },
     "metadata": {},
     "output_type": "display_data"
    },
    {
     "data": {
      "text/markdown": [
       "<span style=\"color:#33cc99\">Solution:</span> \n",
       "```python\n",
       "country_variety_counts = reviews.groupby(['country', 'variety']).size().sort_values(ascending=False)\n",
       "```"
      ],
      "text/plain": [
       "Solution: \n",
       "```python\n",
       "country_variety_counts = reviews.groupby(['country', 'variety']).size().sort_values(ascending=False)\n",
       "```"
      ]
     },
     "metadata": {},
     "output_type": "display_data"
    }
   ],
   "source": [
    "q6.hint()\n",
    "q6.solution()"
   ]
  },
  {
   "cell_type": "markdown",
   "id": "f5ba9ba8",
   "metadata": {
    "papermill": {
     "duration": 0.007961,
     "end_time": "2023-02-23T17:57:35.996146",
     "exception": false,
     "start_time": "2023-02-23T17:57:35.988185",
     "status": "completed"
    },
    "tags": []
   },
   "source": [
    "# Keep going\n",
    "\n",
    "Move on to the [**data types and missing data**](https://www.kaggle.com/residentmario/data-types-and-missing-values)."
   ]
  }
 ],
 "metadata": {
  "kernelspec": {
   "display_name": "Python 3",
   "language": "python",
   "name": "python3"
  },
  "language_info": {
   "codemirror_mode": {
    "name": "ipython",
    "version": 3
   },
   "file_extension": ".py",
   "mimetype": "text/x-python",
   "name": "python",
   "nbconvert_exporter": "python",
   "pygments_lexer": "ipython3",
   "version": "3.7.12"
  },
  "papermill": {
   "default_parameters": {},
   "duration": 10.984322,
   "end_time": "2023-02-23T17:57:36.625407",
   "environment_variables": {},
   "exception": null,
   "input_path": "__notebook__.ipynb",
   "output_path": "__notebook__.ipynb",
   "parameters": {},
   "start_time": "2023-02-23T17:57:25.641085",
   "version": "2.3.4"
  }
 },
 "nbformat": 4,
 "nbformat_minor": 5
}
