{
 "cells": [
  {
   "cell_type": "markdown",
   "id": "99ee4ae5",
   "metadata": {
    "papermill": {
     "duration": 0.006595,
     "end_time": "2023-02-23T18:01:45.781674",
     "exception": false,
     "start_time": "2023-02-23T18:01:45.775079",
     "status": "completed"
    },
    "tags": []
   },
   "source": [
    "**This notebook is an exercise in the [Pandas](https://www.kaggle.com/learn/pandas) course.  You can reference the tutorial at [this link](https://www.kaggle.com/residentmario/data-types-and-missing-values).**\n",
    "\n",
    "---\n"
   ]
  },
  {
   "cell_type": "markdown",
   "id": "d1d5cea6",
   "metadata": {
    "papermill": {
     "duration": 0.003485,
     "end_time": "2023-02-23T18:01:45.788975",
     "exception": false,
     "start_time": "2023-02-23T18:01:45.785490",
     "status": "completed"
    },
    "tags": []
   },
   "source": [
    "# Introduction\n",
    "\n",
    "Run the following cell to load your data and some utility functions."
   ]
  },
  {
   "cell_type": "code",
   "execution_count": 1,
   "id": "b8b13edd",
   "metadata": {
    "execution": {
     "iopub.execute_input": "2023-02-23T18:01:45.798356Z",
     "iopub.status.busy": "2023-02-23T18:01:45.797687Z",
     "iopub.status.idle": "2023-02-23T18:01:48.381798Z",
     "shell.execute_reply": "2023-02-23T18:01:48.380902Z"
    },
    "papermill": {
     "duration": 2.591857,
     "end_time": "2023-02-23T18:01:48.384464",
     "exception": false,
     "start_time": "2023-02-23T18:01:45.792607",
     "status": "completed"
    },
    "tags": []
   },
   "outputs": [
    {
     "name": "stdout",
     "output_type": "stream",
     "text": [
      "Setup complete.\n"
     ]
    }
   ],
   "source": [
    "import pandas as pd\n",
    "\n",
    "reviews = pd.read_csv(\"../input/wine-reviews/winemag-data-130k-v2.csv\", index_col=0)\n",
    "\n",
    "from learntools.core import binder; binder.bind(globals())\n",
    "from learntools.pandas.data_types_and_missing_data import *\n",
    "print(\"Setup complete.\")"
   ]
  },
  {
   "cell_type": "markdown",
   "id": "6d8f538a",
   "metadata": {
    "papermill": {
     "duration": 0.003544,
     "end_time": "2023-02-23T18:01:48.392910",
     "exception": false,
     "start_time": "2023-02-23T18:01:48.389366",
     "status": "completed"
    },
    "tags": []
   },
   "source": [
    "# Exercises"
   ]
  },
  {
   "cell_type": "markdown",
   "id": "a0b9a492",
   "metadata": {
    "papermill": {
     "duration": 0.003521,
     "end_time": "2023-02-23T18:01:48.400132",
     "exception": false,
     "start_time": "2023-02-23T18:01:48.396611",
     "status": "completed"
    },
    "tags": []
   },
   "source": [
    "## 1. \n",
    "What is the data type of the `points` column in the dataset?"
   ]
  },
  {
   "cell_type": "code",
   "execution_count": 2,
   "id": "0fc33ae8",
   "metadata": {
    "execution": {
     "iopub.execute_input": "2023-02-23T18:01:48.409579Z",
     "iopub.status.busy": "2023-02-23T18:01:48.409017Z",
     "iopub.status.idle": "2023-02-23T18:01:48.418983Z",
     "shell.execute_reply": "2023-02-23T18:01:48.417963Z"
    },
    "papermill": {
     "duration": 0.016958,
     "end_time": "2023-02-23T18:01:48.420800",
     "exception": false,
     "start_time": "2023-02-23T18:01:48.403842",
     "status": "completed"
    },
    "tags": []
   },
   "outputs": [
    {
     "data": {
      "application/javascript": [
       "parent.postMessage({\"jupyterEvent\": \"custom.exercise_interaction\", \"data\": {\"outcomeType\": 1, \"valueTowardsCompletion\": 0.25, \"interactionType\": 1, \"questionType\": 1, \"questionId\": \"1_PointsDtype\", \"learnToolsVersion\": \"0.3.4\", \"failureMessage\": \"\", \"exceptionClass\": \"\", \"trace\": \"\"}}, \"*\")"
      ],
      "text/plain": [
       "<IPython.core.display.Javascript object>"
      ]
     },
     "metadata": {},
     "output_type": "display_data"
    },
    {
     "data": {
      "text/markdown": [
       "<span style=\"color:#33cc33\">Correct</span>"
      ],
      "text/plain": [
       "Correct"
      ]
     },
     "metadata": {},
     "output_type": "display_data"
    }
   ],
   "source": [
    "# Your code here\n",
    "dtype = reviews.points.dtype\n",
    "\n",
    "# Check your answer\n",
    "q1.check()"
   ]
  },
  {
   "cell_type": "code",
   "execution_count": 3,
   "id": "4f366d81",
   "metadata": {
    "execution": {
     "iopub.execute_input": "2023-02-23T18:01:48.430592Z",
     "iopub.status.busy": "2023-02-23T18:01:48.430223Z",
     "iopub.status.idle": "2023-02-23T18:01:48.437486Z",
     "shell.execute_reply": "2023-02-23T18:01:48.436549Z"
    },
    "papermill": {
     "duration": 0.014502,
     "end_time": "2023-02-23T18:01:48.439401",
     "exception": false,
     "start_time": "2023-02-23T18:01:48.424899",
     "status": "completed"
    },
    "tags": []
   },
   "outputs": [
    {
     "data": {
      "application/javascript": [
       "parent.postMessage({\"jupyterEvent\": \"custom.exercise_interaction\", \"data\": {\"interactionType\": 2, \"questionType\": 1, \"questionId\": \"1_PointsDtype\", \"learnToolsVersion\": \"0.3.4\", \"valueTowardsCompletion\": 0.0, \"failureMessage\": \"\", \"exceptionClass\": \"\", \"trace\": \"\", \"outcomeType\": 4}}, \"*\")"
      ],
      "text/plain": [
       "<IPython.core.display.Javascript object>"
      ]
     },
     "metadata": {},
     "output_type": "display_data"
    },
    {
     "data": {
      "text/markdown": [
       "<span style=\"color:#3366cc\">Hint:</span> `dtype` is an attribute of a DataFrame or Series."
      ],
      "text/plain": [
       "Hint: `dtype` is an attribute of a DataFrame or Series."
      ]
     },
     "metadata": {},
     "output_type": "display_data"
    }
   ],
   "source": [
    "q1.hint()\n",
    "# q1.solution()"
   ]
  },
  {
   "cell_type": "markdown",
   "id": "817f1ebd",
   "metadata": {
    "papermill": {
     "duration": 0.004355,
     "end_time": "2023-02-23T18:01:48.448137",
     "exception": false,
     "start_time": "2023-02-23T18:01:48.443782",
     "status": "completed"
    },
    "tags": []
   },
   "source": [
    "## 2. \n",
    "Create a Series from entries in the `points` column, but convert the entries to strings. Hint: strings are `str` in native Python."
   ]
  },
  {
   "cell_type": "code",
   "execution_count": 4,
   "id": "5b8a516e",
   "metadata": {
    "execution": {
     "iopub.execute_input": "2023-02-23T18:01:48.458411Z",
     "iopub.status.busy": "2023-02-23T18:01:48.458055Z",
     "iopub.status.idle": "2023-02-23T18:01:48.522429Z",
     "shell.execute_reply": "2023-02-23T18:01:48.521553Z"
    },
    "papermill": {
     "duration": 0.071525,
     "end_time": "2023-02-23T18:01:48.524211",
     "exception": false,
     "start_time": "2023-02-23T18:01:48.452686",
     "status": "completed"
    },
    "tags": []
   },
   "outputs": [
    {
     "data": {
      "application/javascript": [
       "parent.postMessage({\"jupyterEvent\": \"custom.exercise_interaction\", \"data\": {\"outcomeType\": 1, \"valueTowardsCompletion\": 0.25, \"interactionType\": 1, \"questionType\": 1, \"questionId\": \"2_StrPoints\", \"learnToolsVersion\": \"0.3.4\", \"failureMessage\": \"\", \"exceptionClass\": \"\", \"trace\": \"\"}}, \"*\")"
      ],
      "text/plain": [
       "<IPython.core.display.Javascript object>"
      ]
     },
     "metadata": {},
     "output_type": "display_data"
    },
    {
     "data": {
      "text/markdown": [
       "<span style=\"color:#33cc33\">Correct</span>"
      ],
      "text/plain": [
       "Correct"
      ]
     },
     "metadata": {},
     "output_type": "display_data"
    }
   ],
   "source": [
    "point_strings = reviews.points.astype('str')\n",
    "\n",
    "# Check your answer\n",
    "q2.check()"
   ]
  },
  {
   "cell_type": "code",
   "execution_count": 5,
   "id": "2183cf5d",
   "metadata": {
    "execution": {
     "iopub.execute_input": "2023-02-23T18:01:48.534658Z",
     "iopub.status.busy": "2023-02-23T18:01:48.534334Z",
     "iopub.status.idle": "2023-02-23T18:01:48.538032Z",
     "shell.execute_reply": "2023-02-23T18:01:48.537267Z"
    },
    "papermill": {
     "duration": 0.011101,
     "end_time": "2023-02-23T18:01:48.539822",
     "exception": false,
     "start_time": "2023-02-23T18:01:48.528721",
     "status": "completed"
    },
    "tags": []
   },
   "outputs": [],
   "source": [
    "# q2.hint()\n",
    "# q2.solution()"
   ]
  },
  {
   "cell_type": "markdown",
   "id": "a4e54218",
   "metadata": {
    "papermill": {
     "duration": 0.004246,
     "end_time": "2023-02-23T18:01:48.548614",
     "exception": false,
     "start_time": "2023-02-23T18:01:48.544368",
     "status": "completed"
    },
    "tags": []
   },
   "source": [
    "## 3.\n",
    "Sometimes the price column is null. How many reviews in the dataset are missing a price?"
   ]
  },
  {
   "cell_type": "code",
   "execution_count": 6,
   "id": "2d2f5aac",
   "metadata": {
    "execution": {
     "iopub.execute_input": "2023-02-23T18:01:48.558904Z",
     "iopub.status.busy": "2023-02-23T18:01:48.558538Z",
     "iopub.status.idle": "2023-02-23T18:01:48.574795Z",
     "shell.execute_reply": "2023-02-23T18:01:48.573776Z"
    },
    "papermill": {
     "duration": 0.023893,
     "end_time": "2023-02-23T18:01:48.576878",
     "exception": false,
     "start_time": "2023-02-23T18:01:48.552985",
     "status": "completed"
    },
    "tags": []
   },
   "outputs": [
    {
     "data": {
      "application/javascript": [
       "parent.postMessage({\"jupyterEvent\": \"custom.exercise_interaction\", \"data\": {\"outcomeType\": 1, \"valueTowardsCompletion\": 0.25, \"interactionType\": 1, \"questionType\": 1, \"questionId\": \"3_CountMissingPrices\", \"learnToolsVersion\": \"0.3.4\", \"failureMessage\": \"\", \"exceptionClass\": \"\", \"trace\": \"\"}}, \"*\")"
      ],
      "text/plain": [
       "<IPython.core.display.Javascript object>"
      ]
     },
     "metadata": {},
     "output_type": "display_data"
    },
    {
     "data": {
      "text/markdown": [
       "<span style=\"color:#33cc33\">Correct</span>"
      ],
      "text/plain": [
       "Correct"
      ]
     },
     "metadata": {},
     "output_type": "display_data"
    }
   ],
   "source": [
    "n_missing_prices = len(reviews[pd.isnull(reviews.price)])\n",
    "\n",
    "\n",
    "# Cute alternative solution: if we sum a boolean series, True is treated as 1 and False as 0\n",
    "##n_missing_prices = reviews.price.isnull().sum()\n",
    "# or equivalently:\n",
    "##n_missing_prices = pd.isnull(reviews.price).sum()\n",
    "# Check your answer\n",
    "q3.check()"
   ]
  },
  {
   "cell_type": "code",
   "execution_count": 7,
   "id": "7ebaf559",
   "metadata": {
    "execution": {
     "iopub.execute_input": "2023-02-23T18:01:48.588206Z",
     "iopub.status.busy": "2023-02-23T18:01:48.587825Z",
     "iopub.status.idle": "2023-02-23T18:01:48.596226Z",
     "shell.execute_reply": "2023-02-23T18:01:48.595239Z"
    },
    "papermill": {
     "duration": 0.016327,
     "end_time": "2023-02-23T18:01:48.598301",
     "exception": false,
     "start_time": "2023-02-23T18:01:48.581974",
     "status": "completed"
    },
    "tags": []
   },
   "outputs": [
    {
     "data": {
      "application/javascript": [
       "parent.postMessage({\"jupyterEvent\": \"custom.exercise_interaction\", \"data\": {\"interactionType\": 2, \"questionType\": 1, \"questionId\": \"3_CountMissingPrices\", \"learnToolsVersion\": \"0.3.4\", \"valueTowardsCompletion\": 0.0, \"failureMessage\": \"\", \"exceptionClass\": \"\", \"trace\": \"\", \"outcomeType\": 4}}, \"*\")"
      ],
      "text/plain": [
       "<IPython.core.display.Javascript object>"
      ]
     },
     "metadata": {},
     "output_type": "display_data"
    },
    {
     "data": {
      "text/markdown": [
       "<span style=\"color:#3366cc\">Hint:</span> Use `pd.isnull()`."
      ],
      "text/plain": [
       "Hint: Use `pd.isnull()`."
      ]
     },
     "metadata": {},
     "output_type": "display_data"
    }
   ],
   "source": [
    "q3.hint()\n",
    "# q3.solution()"
   ]
  },
  {
   "cell_type": "markdown",
   "id": "c2975fe4",
   "metadata": {
    "papermill": {
     "duration": 0.004734,
     "end_time": "2023-02-23T18:01:48.608323",
     "exception": false,
     "start_time": "2023-02-23T18:01:48.603589",
     "status": "completed"
    },
    "tags": []
   },
   "source": [
    "## 4.\n",
    "What are the most common wine-producing regions? Create a Series counting the number of times each value occurs in the `region_1` field. This field is often missing data, so replace missing values with `Unknown`. Sort in descending order.  Your output should look something like this:\n",
    "\n",
    "```\n",
    "Unknown                    21247\n",
    "Napa Valley                 4480\n",
    "                           ...  \n",
    "Bardolino Superiore            1\n",
    "Primitivo del Tarantino        1\n",
    "Name: region_1, Length: 1230, dtype: int64\n",
    "```"
   ]
  },
  {
   "cell_type": "code",
   "execution_count": 8,
   "id": "5fb77bf2",
   "metadata": {
    "execution": {
     "iopub.execute_input": "2023-02-23T18:01:48.619869Z",
     "iopub.status.busy": "2023-02-23T18:01:48.619508Z",
     "iopub.status.idle": "2023-02-23T18:01:48.655105Z",
     "shell.execute_reply": "2023-02-23T18:01:48.654368Z"
    },
    "papermill": {
     "duration": 0.043602,
     "end_time": "2023-02-23T18:01:48.656839",
     "exception": false,
     "start_time": "2023-02-23T18:01:48.613237",
     "status": "completed"
    },
    "tags": []
   },
   "outputs": [
    {
     "data": {
      "application/javascript": [
       "parent.postMessage({\"jupyterEvent\": \"custom.exercise_interaction\", \"data\": {\"outcomeType\": 1, \"valueTowardsCompletion\": 0.25, \"interactionType\": 1, \"questionType\": 2, \"questionId\": \"4_ReviewsPerRegion\", \"learnToolsVersion\": \"0.3.4\", \"failureMessage\": \"\", \"exceptionClass\": \"\", \"trace\": \"\"}}, \"*\")"
      ],
      "text/plain": [
       "<IPython.core.display.Javascript object>"
      ]
     },
     "metadata": {},
     "output_type": "display_data"
    },
    {
     "data": {
      "text/markdown": [
       "<span style=\"color:#33cc33\">Correct</span>"
      ],
      "text/plain": [
       "Correct"
      ]
     },
     "metadata": {},
     "output_type": "display_data"
    }
   ],
   "source": [
    "reviews_per_region = reviews.region_1.fillna('Unknown').value_counts().sort_values(ascending=False)\n",
    "\n",
    "# Check your answer\n",
    "q4.check()"
   ]
  },
  {
   "cell_type": "code",
   "execution_count": 9,
   "id": "a70f2e30",
   "metadata": {
    "execution": {
     "iopub.execute_input": "2023-02-23T18:01:48.669017Z",
     "iopub.status.busy": "2023-02-23T18:01:48.668281Z",
     "iopub.status.idle": "2023-02-23T18:01:48.679767Z",
     "shell.execute_reply": "2023-02-23T18:01:48.678838Z"
    },
    "papermill": {
     "duration": 0.019382,
     "end_time": "2023-02-23T18:01:48.681506",
     "exception": false,
     "start_time": "2023-02-23T18:01:48.662124",
     "status": "completed"
    },
    "tags": []
   },
   "outputs": [
    {
     "data": {
      "application/javascript": [
       "parent.postMessage({\"jupyterEvent\": \"custom.exercise_interaction\", \"data\": {\"interactionType\": 2, \"questionType\": 2, \"questionId\": \"4_ReviewsPerRegion\", \"learnToolsVersion\": \"0.3.4\", \"valueTowardsCompletion\": 0.0, \"failureMessage\": \"\", \"exceptionClass\": \"\", \"trace\": \"\", \"outcomeType\": 4}}, \"*\")"
      ],
      "text/plain": [
       "<IPython.core.display.Javascript object>"
      ]
     },
     "metadata": {},
     "output_type": "display_data"
    },
    {
     "data": {
      "text/markdown": [
       "<span style=\"color:#3366cc\">Hint:</span> Use `fillna()`, `value_counts()`, and `sort_values()`."
      ],
      "text/plain": [
       "Hint: Use `fillna()`, `value_counts()`, and `sort_values()`."
      ]
     },
     "metadata": {},
     "output_type": "display_data"
    },
    {
     "data": {
      "application/javascript": [
       "parent.postMessage({\"jupyterEvent\": \"custom.exercise_interaction\", \"data\": {\"interactionType\": 3, \"questionType\": 2, \"questionId\": \"4_ReviewsPerRegion\", \"learnToolsVersion\": \"0.3.4\", \"valueTowardsCompletion\": 0.0, \"failureMessage\": \"\", \"exceptionClass\": \"\", \"trace\": \"\", \"outcomeType\": 4}}, \"*\")"
      ],
      "text/plain": [
       "<IPython.core.display.Javascript object>"
      ]
     },
     "metadata": {},
     "output_type": "display_data"
    },
    {
     "data": {
      "text/markdown": [
       "<span style=\"color:#33cc99\">Solution:</span> \n",
       "```python\n",
       "reviews_per_region = reviews.region_1.fillna('Unknown').value_counts().sort_values(ascending=False)\n",
       "```"
      ],
      "text/plain": [
       "Solution: \n",
       "```python\n",
       "reviews_per_region = reviews.region_1.fillna('Unknown').value_counts().sort_values(ascending=False)\n",
       "```"
      ]
     },
     "metadata": {},
     "output_type": "display_data"
    }
   ],
   "source": [
    "q4.hint()\n",
    "q4.solution()"
   ]
  },
  {
   "cell_type": "markdown",
   "id": "1fb38a04",
   "metadata": {
    "papermill": {
     "duration": 0.00534,
     "end_time": "2023-02-23T18:01:48.692521",
     "exception": false,
     "start_time": "2023-02-23T18:01:48.687181",
     "status": "completed"
    },
    "tags": []
   },
   "source": [
    "# Keep going\n",
    "\n",
    "Move on to **[renaming and combining](https://www.kaggle.com/residentmario/renaming-and-combining)**."
   ]
  }
 ],
 "metadata": {
  "kernelspec": {
   "display_name": "Python 3",
   "language": "python",
   "name": "python3"
  },
  "language_info": {
   "codemirror_mode": {
    "name": "ipython",
    "version": 3
   },
   "file_extension": ".py",
   "mimetype": "text/x-python",
   "name": "python",
   "nbconvert_exporter": "python",
   "pygments_lexer": "ipython3",
   "version": "3.7.12"
  },
  "papermill": {
   "default_parameters": {},
   "duration": 10.473382,
   "end_time": "2023-02-23T18:01:49.418762",
   "environment_variables": {},
   "exception": null,
   "input_path": "__notebook__.ipynb",
   "output_path": "__notebook__.ipynb",
   "parameters": {},
   "start_time": "2023-02-23T18:01:38.945380",
   "version": "2.3.4"
  }
 },
 "nbformat": 4,
 "nbformat_minor": 5
}
