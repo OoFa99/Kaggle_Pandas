{
 "cells": [
  {
   "cell_type": "markdown",
   "id": "07e6e271",
   "metadata": {
    "papermill": {
     "duration": 0.007403,
     "end_time": "2023-02-23T17:29:52.337775",
     "exception": false,
     "start_time": "2023-02-23T17:29:52.330372",
     "status": "completed"
    },
    "tags": []
   },
   "source": [
    "**This notebook is an exercise in the [Pandas](https://www.kaggle.com/learn/pandas) course.  You can reference the tutorial at [this link](https://www.kaggle.com/residentmario/summary-functions-and-maps).**\n",
    "\n",
    "---\n"
   ]
  },
  {
   "cell_type": "markdown",
   "id": "b764249a",
   "metadata": {
    "papermill": {
     "duration": 0.005667,
     "end_time": "2023-02-23T17:29:52.349727",
     "exception": false,
     "start_time": "2023-02-23T17:29:52.344060",
     "status": "completed"
    },
    "tags": []
   },
   "source": [
    "# Introduction\n",
    "\n",
    "Now you are ready to get a deeper understanding of your data.\n",
    "\n",
    "Run the following cell to load your data and some utility functions (including code to check your answers)."
   ]
  },
  {
   "cell_type": "code",
   "execution_count": 1,
   "id": "2352a55a",
   "metadata": {
    "execution": {
     "iopub.execute_input": "2023-02-23T17:29:52.364425Z",
     "iopub.status.busy": "2023-02-23T17:29:52.363392Z",
     "iopub.status.idle": "2023-02-23T17:29:59.448928Z",
     "shell.execute_reply": "2023-02-23T17:29:59.447684Z"
    },
    "papermill": {
     "duration": 7.096019,
     "end_time": "2023-02-23T17:29:59.451572",
     "exception": false,
     "start_time": "2023-02-23T17:29:52.355553",
     "status": "completed"
    },
    "tags": []
   },
   "outputs": [
    {
     "name": "stdout",
     "output_type": "stream",
     "text": [
      "Setup complete.\n"
     ]
    },
    {
     "data": {
      "text/html": [
       "<div>\n",
       "<style scoped>\n",
       "    .dataframe tbody tr th:only-of-type {\n",
       "        vertical-align: middle;\n",
       "    }\n",
       "\n",
       "    .dataframe tbody tr th {\n",
       "        vertical-align: top;\n",
       "    }\n",
       "\n",
       "    .dataframe thead th {\n",
       "        text-align: right;\n",
       "    }\n",
       "</style>\n",
       "<table border=\"1\" class=\"dataframe\">\n",
       "  <thead>\n",
       "    <tr style=\"text-align: right;\">\n",
       "      <th></th>\n",
       "      <th>country</th>\n",
       "      <th>description</th>\n",
       "      <th>designation</th>\n",
       "      <th>points</th>\n",
       "      <th>price</th>\n",
       "      <th>province</th>\n",
       "      <th>region_1</th>\n",
       "      <th>region_2</th>\n",
       "      <th>taster_name</th>\n",
       "      <th>taster_twitter_handle</th>\n",
       "      <th>title</th>\n",
       "      <th>variety</th>\n",
       "      <th>winery</th>\n",
       "    </tr>\n",
       "  </thead>\n",
       "  <tbody>\n",
       "    <tr>\n",
       "      <th>0</th>\n",
       "      <td>Italy</td>\n",
       "      <td>Aromas include tropical fruit, broom, brimston...</td>\n",
       "      <td>Vulkà Bianco</td>\n",
       "      <td>87</td>\n",
       "      <td>NaN</td>\n",
       "      <td>Sicily &amp; Sardinia</td>\n",
       "      <td>Etna</td>\n",
       "      <td>NaN</td>\n",
       "      <td>Kerin O’Keefe</td>\n",
       "      <td>@kerinokeefe</td>\n",
       "      <td>Nicosia 2013 Vulkà Bianco  (Etna)</td>\n",
       "      <td>White Blend</td>\n",
       "      <td>Nicosia</td>\n",
       "    </tr>\n",
       "    <tr>\n",
       "      <th>1</th>\n",
       "      <td>Portugal</td>\n",
       "      <td>This is ripe and fruity, a wine that is smooth...</td>\n",
       "      <td>Avidagos</td>\n",
       "      <td>87</td>\n",
       "      <td>15.0</td>\n",
       "      <td>Douro</td>\n",
       "      <td>NaN</td>\n",
       "      <td>NaN</td>\n",
       "      <td>Roger Voss</td>\n",
       "      <td>@vossroger</td>\n",
       "      <td>Quinta dos Avidagos 2011 Avidagos Red (Douro)</td>\n",
       "      <td>Portuguese Red</td>\n",
       "      <td>Quinta dos Avidagos</td>\n",
       "    </tr>\n",
       "    <tr>\n",
       "      <th>2</th>\n",
       "      <td>US</td>\n",
       "      <td>Tart and snappy, the flavors of lime flesh and...</td>\n",
       "      <td>NaN</td>\n",
       "      <td>87</td>\n",
       "      <td>14.0</td>\n",
       "      <td>Oregon</td>\n",
       "      <td>Willamette Valley</td>\n",
       "      <td>Willamette Valley</td>\n",
       "      <td>Paul Gregutt</td>\n",
       "      <td>@paulgwine</td>\n",
       "      <td>Rainstorm 2013 Pinot Gris (Willamette Valley)</td>\n",
       "      <td>Pinot Gris</td>\n",
       "      <td>Rainstorm</td>\n",
       "    </tr>\n",
       "    <tr>\n",
       "      <th>3</th>\n",
       "      <td>US</td>\n",
       "      <td>Pineapple rind, lemon pith and orange blossom ...</td>\n",
       "      <td>Reserve Late Harvest</td>\n",
       "      <td>87</td>\n",
       "      <td>13.0</td>\n",
       "      <td>Michigan</td>\n",
       "      <td>Lake Michigan Shore</td>\n",
       "      <td>NaN</td>\n",
       "      <td>Alexander Peartree</td>\n",
       "      <td>NaN</td>\n",
       "      <td>St. Julian 2013 Reserve Late Harvest Riesling ...</td>\n",
       "      <td>Riesling</td>\n",
       "      <td>St. Julian</td>\n",
       "    </tr>\n",
       "    <tr>\n",
       "      <th>4</th>\n",
       "      <td>US</td>\n",
       "      <td>Much like the regular bottling from 2012, this...</td>\n",
       "      <td>Vintner's Reserve Wild Child Block</td>\n",
       "      <td>87</td>\n",
       "      <td>65.0</td>\n",
       "      <td>Oregon</td>\n",
       "      <td>Willamette Valley</td>\n",
       "      <td>Willamette Valley</td>\n",
       "      <td>Paul Gregutt</td>\n",
       "      <td>@paulgwine</td>\n",
       "      <td>Sweet Cheeks 2012 Vintner's Reserve Wild Child...</td>\n",
       "      <td>Pinot Noir</td>\n",
       "      <td>Sweet Cheeks</td>\n",
       "    </tr>\n",
       "  </tbody>\n",
       "</table>\n",
       "</div>"
      ],
      "text/plain": [
       "    country                                        description  \\\n",
       "0     Italy  Aromas include tropical fruit, broom, brimston...   \n",
       "1  Portugal  This is ripe and fruity, a wine that is smooth...   \n",
       "2        US  Tart and snappy, the flavors of lime flesh and...   \n",
       "3        US  Pineapple rind, lemon pith and orange blossom ...   \n",
       "4        US  Much like the regular bottling from 2012, this...   \n",
       "\n",
       "                          designation  points  price           province  \\\n",
       "0                        Vulkà Bianco      87    NaN  Sicily & Sardinia   \n",
       "1                            Avidagos      87   15.0              Douro   \n",
       "2                                 NaN      87   14.0             Oregon   \n",
       "3                Reserve Late Harvest      87   13.0           Michigan   \n",
       "4  Vintner's Reserve Wild Child Block      87   65.0             Oregon   \n",
       "\n",
       "              region_1           region_2         taster_name  \\\n",
       "0                 Etna                NaN       Kerin O’Keefe   \n",
       "1                  NaN                NaN          Roger Voss   \n",
       "2    Willamette Valley  Willamette Valley        Paul Gregutt   \n",
       "3  Lake Michigan Shore                NaN  Alexander Peartree   \n",
       "4    Willamette Valley  Willamette Valley        Paul Gregutt   \n",
       "\n",
       "  taster_twitter_handle                                              title  \\\n",
       "0          @kerinokeefe                  Nicosia 2013 Vulkà Bianco  (Etna)   \n",
       "1            @vossroger      Quinta dos Avidagos 2011 Avidagos Red (Douro)   \n",
       "2           @paulgwine       Rainstorm 2013 Pinot Gris (Willamette Valley)   \n",
       "3                   NaN  St. Julian 2013 Reserve Late Harvest Riesling ...   \n",
       "4           @paulgwine   Sweet Cheeks 2012 Vintner's Reserve Wild Child...   \n",
       "\n",
       "          variety               winery  \n",
       "0     White Blend              Nicosia  \n",
       "1  Portuguese Red  Quinta dos Avidagos  \n",
       "2      Pinot Gris            Rainstorm  \n",
       "3        Riesling           St. Julian  \n",
       "4      Pinot Noir         Sweet Cheeks  "
      ]
     },
     "execution_count": 1,
     "metadata": {},
     "output_type": "execute_result"
    }
   ],
   "source": [
    "import pandas as pd\n",
    "pd.set_option(\"display.max_rows\", 5)\n",
    "reviews = pd.read_csv(\"../input/wine-reviews/winemag-data-130k-v2.csv\", index_col=0)\n",
    "\n",
    "from learntools.core import binder; binder.bind(globals())\n",
    "from learntools.pandas.summary_functions_and_maps import *\n",
    "print(\"Setup complete.\")\n",
    "\n",
    "reviews.head()"
   ]
  },
  {
   "cell_type": "markdown",
   "id": "87eec020",
   "metadata": {
    "papermill": {
     "duration": 0.006379,
     "end_time": "2023-02-23T17:29:59.464686",
     "exception": false,
     "start_time": "2023-02-23T17:29:59.458307",
     "status": "completed"
    },
    "tags": []
   },
   "source": [
    "# Exercises"
   ]
  },
  {
   "cell_type": "markdown",
   "id": "5900c770",
   "metadata": {
    "papermill": {
     "duration": 0.006134,
     "end_time": "2023-02-23T17:29:59.477306",
     "exception": false,
     "start_time": "2023-02-23T17:29:59.471172",
     "status": "completed"
    },
    "tags": []
   },
   "source": [
    "## 1.\n",
    "\n",
    "What is the median of the `points` column in the `reviews` DataFrame?"
   ]
  },
  {
   "cell_type": "code",
   "execution_count": 2,
   "id": "4fb3df69",
   "metadata": {
    "execution": {
     "iopub.execute_input": "2023-02-23T17:29:59.492546Z",
     "iopub.status.busy": "2023-02-23T17:29:59.492125Z",
     "iopub.status.idle": "2023-02-23T17:29:59.503601Z",
     "shell.execute_reply": "2023-02-23T17:29:59.502422Z"
    },
    "papermill": {
     "duration": 0.021616,
     "end_time": "2023-02-23T17:29:59.505923",
     "exception": false,
     "start_time": "2023-02-23T17:29:59.484307",
     "status": "completed"
    },
    "tags": []
   },
   "outputs": [
    {
     "data": {
      "application/javascript": [
       "parent.postMessage({\"jupyterEvent\": \"custom.exercise_interaction\", \"data\": {\"outcomeType\": 1, \"valueTowardsCompletion\": 0.14285714285714285, \"interactionType\": 1, \"questionType\": 1, \"questionId\": \"1_MedianPoints\", \"learnToolsVersion\": \"0.3.4\", \"failureMessage\": \"\", \"exceptionClass\": \"\", \"trace\": \"\"}}, \"*\")"
      ],
      "text/plain": [
       "<IPython.core.display.Javascript object>"
      ]
     },
     "metadata": {},
     "output_type": "display_data"
    },
    {
     "data": {
      "text/markdown": [
       "<span style=\"color:#33cc33\">Correct</span>"
      ],
      "text/plain": [
       "Correct"
      ]
     },
     "metadata": {},
     "output_type": "display_data"
    }
   ],
   "source": [
    "median_points = reviews.points.median()\n",
    "\n",
    "# Check your answer\n",
    "q1.check()"
   ]
  },
  {
   "cell_type": "code",
   "execution_count": 3,
   "id": "1d7b55e7",
   "metadata": {
    "execution": {
     "iopub.execute_input": "2023-02-23T17:29:59.521611Z",
     "iopub.status.busy": "2023-02-23T17:29:59.520852Z",
     "iopub.status.idle": "2023-02-23T17:29:59.525166Z",
     "shell.execute_reply": "2023-02-23T17:29:59.524246Z"
    },
    "papermill": {
     "duration": 0.014836,
     "end_time": "2023-02-23T17:29:59.527417",
     "exception": false,
     "start_time": "2023-02-23T17:29:59.512581",
     "status": "completed"
    },
    "tags": []
   },
   "outputs": [],
   "source": [
    "# q1.hint()\n",
    "# q1.solution()"
   ]
  },
  {
   "cell_type": "markdown",
   "id": "f59c42a2",
   "metadata": {
    "papermill": {
     "duration": 0.006408,
     "end_time": "2023-02-23T17:29:59.540587",
     "exception": false,
     "start_time": "2023-02-23T17:29:59.534179",
     "status": "completed"
    },
    "tags": []
   },
   "source": [
    "## 2. \n",
    "What countries are represented in the dataset? (Your answer should not include any duplicates.)"
   ]
  },
  {
   "cell_type": "code",
   "execution_count": 4,
   "id": "b9efa7fd",
   "metadata": {
    "execution": {
     "iopub.execute_input": "2023-02-23T17:29:59.555723Z",
     "iopub.status.busy": "2023-02-23T17:29:59.555275Z",
     "iopub.status.idle": "2023-02-23T17:29:59.572031Z",
     "shell.execute_reply": "2023-02-23T17:29:59.570993Z"
    },
    "papermill": {
     "duration": 0.027292,
     "end_time": "2023-02-23T17:29:59.574675",
     "exception": false,
     "start_time": "2023-02-23T17:29:59.547383",
     "status": "completed"
    },
    "tags": []
   },
   "outputs": [
    {
     "data": {
      "application/javascript": [
       "parent.postMessage({\"jupyterEvent\": \"custom.exercise_interaction\", \"data\": {\"outcomeType\": 1, \"valueTowardsCompletion\": 0.14285714285714285, \"interactionType\": 1, \"questionType\": 2, \"questionId\": \"2_UniqueCountries\", \"learnToolsVersion\": \"0.3.4\", \"failureMessage\": \"\", \"exceptionClass\": \"\", \"trace\": \"\"}}, \"*\")"
      ],
      "text/plain": [
       "<IPython.core.display.Javascript object>"
      ]
     },
     "metadata": {},
     "output_type": "display_data"
    },
    {
     "data": {
      "text/markdown": [
       "<span style=\"color:#33cc33\">Correct</span>"
      ],
      "text/plain": [
       "Correct"
      ]
     },
     "metadata": {},
     "output_type": "display_data"
    }
   ],
   "source": [
    "countries = reviews.country.unique()\n",
    "\n",
    "# Check your answer\n",
    "q2.check()"
   ]
  },
  {
   "cell_type": "code",
   "execution_count": 5,
   "id": "2a07dc67",
   "metadata": {
    "execution": {
     "iopub.execute_input": "2023-02-23T17:29:59.590533Z",
     "iopub.status.busy": "2023-02-23T17:29:59.590099Z",
     "iopub.status.idle": "2023-02-23T17:29:59.594721Z",
     "shell.execute_reply": "2023-02-23T17:29:59.593601Z"
    },
    "papermill": {
     "duration": 0.015053,
     "end_time": "2023-02-23T17:29:59.596885",
     "exception": false,
     "start_time": "2023-02-23T17:29:59.581832",
     "status": "completed"
    },
    "tags": []
   },
   "outputs": [],
   "source": [
    "# q2.hint()\n",
    "# q2.solution()"
   ]
  },
  {
   "cell_type": "markdown",
   "id": "ca687761",
   "metadata": {
    "papermill": {
     "duration": 0.006691,
     "end_time": "2023-02-23T17:29:59.610595",
     "exception": false,
     "start_time": "2023-02-23T17:29:59.603904",
     "status": "completed"
    },
    "tags": []
   },
   "source": [
    "## 3.\n",
    "How often does each country appear in the dataset? Create a Series `reviews_per_country` mapping countries to the count of reviews of wines from that country."
   ]
  },
  {
   "cell_type": "code",
   "execution_count": 6,
   "id": "be09b279",
   "metadata": {
    "execution": {
     "iopub.execute_input": "2023-02-23T17:29:59.626123Z",
     "iopub.status.busy": "2023-02-23T17:29:59.625710Z",
     "iopub.status.idle": "2023-02-23T17:29:59.643606Z",
     "shell.execute_reply": "2023-02-23T17:29:59.642515Z"
    },
    "papermill": {
     "duration": 0.028216,
     "end_time": "2023-02-23T17:29:59.645777",
     "exception": false,
     "start_time": "2023-02-23T17:29:59.617561",
     "status": "completed"
    },
    "tags": []
   },
   "outputs": [
    {
     "data": {
      "application/javascript": [
       "parent.postMessage({\"jupyterEvent\": \"custom.exercise_interaction\", \"data\": {\"outcomeType\": 1, \"valueTowardsCompletion\": 0.14285714285714285, \"interactionType\": 1, \"questionType\": 1, \"questionId\": \"3_ReviewsPerCountry\", \"learnToolsVersion\": \"0.3.4\", \"failureMessage\": \"\", \"exceptionClass\": \"\", \"trace\": \"\"}}, \"*\")"
      ],
      "text/plain": [
       "<IPython.core.display.Javascript object>"
      ]
     },
     "metadata": {},
     "output_type": "display_data"
    },
    {
     "data": {
      "text/markdown": [
       "<span style=\"color:#33cc33\">Correct</span>"
      ],
      "text/plain": [
       "Correct"
      ]
     },
     "metadata": {},
     "output_type": "display_data"
    }
   ],
   "source": [
    "reviews_per_country = reviews.country.value_counts()\n",
    "\n",
    "# Check your answer\n",
    "q3.check()"
   ]
  },
  {
   "cell_type": "code",
   "execution_count": 7,
   "id": "80bc2ec4",
   "metadata": {
    "execution": {
     "iopub.execute_input": "2023-02-23T17:29:59.661727Z",
     "iopub.status.busy": "2023-02-23T17:29:59.661356Z",
     "iopub.status.idle": "2023-02-23T17:29:59.665629Z",
     "shell.execute_reply": "2023-02-23T17:29:59.664574Z"
    },
    "papermill": {
     "duration": 0.014727,
     "end_time": "2023-02-23T17:29:59.667667",
     "exception": false,
     "start_time": "2023-02-23T17:29:59.652940",
     "status": "completed"
    },
    "tags": []
   },
   "outputs": [],
   "source": [
    "# q3.hint()\n",
    "# q3.solution()"
   ]
  },
  {
   "cell_type": "markdown",
   "id": "d633d1a7",
   "metadata": {
    "papermill": {
     "duration": 0.006914,
     "end_time": "2023-02-23T17:29:59.681744",
     "exception": false,
     "start_time": "2023-02-23T17:29:59.674830",
     "status": "completed"
    },
    "tags": []
   },
   "source": [
    "## 4.\n",
    "Create variable `centered_price` containing a version of the `price` column with the mean price subtracted.\n",
    "\n",
    "(Note: this 'centering' transformation is a common preprocessing step before applying various machine learning algorithms.) "
   ]
  },
  {
   "cell_type": "code",
   "execution_count": 8,
   "id": "c6521704",
   "metadata": {
    "execution": {
     "iopub.execute_input": "2023-02-23T17:29:59.697626Z",
     "iopub.status.busy": "2023-02-23T17:29:59.697190Z",
     "iopub.status.idle": "2023-02-23T17:31:20.801165Z",
     "shell.execute_reply": "2023-02-23T17:31:20.800093Z"
    },
    "papermill": {
     "duration": 81.121388,
     "end_time": "2023-02-23T17:31:20.810192",
     "exception": false,
     "start_time": "2023-02-23T17:29:59.688804",
     "status": "completed"
    },
    "tags": []
   },
   "outputs": [
    {
     "data": {
      "application/javascript": [
       "parent.postMessage({\"jupyterEvent\": \"custom.exercise_interaction\", \"data\": {\"outcomeType\": 1, \"valueTowardsCompletion\": 0.14285714285714285, \"interactionType\": 1, \"questionType\": 1, \"questionId\": \"4_CenteredPrice\", \"learnToolsVersion\": \"0.3.4\", \"failureMessage\": \"\", \"exceptionClass\": \"\", \"trace\": \"\"}}, \"*\")"
      ],
      "text/plain": [
       "<IPython.core.display.Javascript object>"
      ]
     },
     "metadata": {},
     "output_type": "display_data"
    },
    {
     "data": {
      "text/markdown": [
       "<span style=\"color:#33cc33\">Correct</span>"
      ],
      "text/plain": [
       "Correct"
      ]
     },
     "metadata": {},
     "output_type": "display_data"
    }
   ],
   "source": [
    "centered_price = reviews.price.map(lambda pr: pr - reviews.price.mean())\n",
    "\n",
    "# Check your answer\n",
    "q4.check()"
   ]
  },
  {
   "cell_type": "code",
   "execution_count": 9,
   "id": "801dee4a",
   "metadata": {
    "execution": {
     "iopub.execute_input": "2023-02-23T17:31:20.826306Z",
     "iopub.status.busy": "2023-02-23T17:31:20.825872Z",
     "iopub.status.idle": "2023-02-23T17:31:20.830373Z",
     "shell.execute_reply": "2023-02-23T17:31:20.829294Z"
    },
    "papermill": {
     "duration": 0.01522,
     "end_time": "2023-02-23T17:31:20.832496",
     "exception": false,
     "start_time": "2023-02-23T17:31:20.817276",
     "status": "completed"
    },
    "tags": []
   },
   "outputs": [],
   "source": [
    "# q4.hint()\n",
    "# q4.solution()"
   ]
  },
  {
   "cell_type": "markdown",
   "id": "e7033883",
   "metadata": {
    "papermill": {
     "duration": 0.007045,
     "end_time": "2023-02-23T17:31:20.847129",
     "exception": false,
     "start_time": "2023-02-23T17:31:20.840084",
     "status": "completed"
    },
    "tags": []
   },
   "source": [
    "## 5.\n",
    "I'm an economical wine buyer. Which wine is the \"best bargain\"? Create a variable `bargain_wine` with the title of the wine with the highest points-to-price ratio in the dataset."
   ]
  },
  {
   "cell_type": "code",
   "execution_count": 10,
   "id": "98a7210a",
   "metadata": {
    "execution": {
     "iopub.execute_input": "2023-02-23T17:31:20.863695Z",
     "iopub.status.busy": "2023-02-23T17:31:20.863232Z",
     "iopub.status.idle": "2023-02-23T17:31:20.878355Z",
     "shell.execute_reply": "2023-02-23T17:31:20.877187Z"
    },
    "papermill": {
     "duration": 0.026125,
     "end_time": "2023-02-23T17:31:20.880619",
     "exception": false,
     "start_time": "2023-02-23T17:31:20.854494",
     "status": "completed"
    },
    "tags": []
   },
   "outputs": [
    {
     "data": {
      "application/javascript": [
       "parent.postMessage({\"jupyterEvent\": \"custom.exercise_interaction\", \"data\": {\"outcomeType\": 1, \"valueTowardsCompletion\": 0.14285714285714285, \"interactionType\": 1, \"questionType\": 2, \"questionId\": \"5_BargainWine\", \"learnToolsVersion\": \"0.3.4\", \"failureMessage\": \"\", \"exceptionClass\": \"\", \"trace\": \"\"}}, \"*\")"
      ],
      "text/plain": [
       "<IPython.core.display.Javascript object>"
      ]
     },
     "metadata": {},
     "output_type": "display_data"
    },
    {
     "data": {
      "text/markdown": [
       "<span style=\"color:#33cc33\">Correct</span>"
      ],
      "text/plain": [
       "Correct"
      ]
     },
     "metadata": {},
     "output_type": "display_data"
    }
   ],
   "source": [
    "idx = (reviews.points / reviews.price).idxmax()\n",
    "bargain_wine = reviews.loc[idx, 'title']\n",
    "\n",
    "# Check your answer\n",
    "q5.check()"
   ]
  },
  {
   "cell_type": "code",
   "execution_count": 11,
   "id": "12044582",
   "metadata": {
    "execution": {
     "iopub.execute_input": "2023-02-23T17:31:20.897994Z",
     "iopub.status.busy": "2023-02-23T17:31:20.897171Z",
     "iopub.status.idle": "2023-02-23T17:31:20.906155Z",
     "shell.execute_reply": "2023-02-23T17:31:20.905221Z"
    },
    "papermill": {
     "duration": 0.020195,
     "end_time": "2023-02-23T17:31:20.908382",
     "exception": false,
     "start_time": "2023-02-23T17:31:20.888187",
     "status": "completed"
    },
    "tags": []
   },
   "outputs": [
    {
     "data": {
      "application/javascript": [
       "parent.postMessage({\"jupyterEvent\": \"custom.exercise_interaction\", \"data\": {\"interactionType\": 2, \"questionType\": 2, \"questionId\": \"5_BargainWine\", \"learnToolsVersion\": \"0.3.4\", \"valueTowardsCompletion\": 0.0, \"failureMessage\": \"\", \"exceptionClass\": \"\", \"trace\": \"\", \"outcomeType\": 4}}, \"*\")"
      ],
      "text/plain": [
       "<IPython.core.display.Javascript object>"
      ]
     },
     "metadata": {},
     "output_type": "display_data"
    },
    {
     "data": {
      "text/markdown": [
       "<span style=\"color:#3366cc\">Hint:</span> The `idxmax` method may be useful here."
      ],
      "text/plain": [
       "Hint: The `idxmax` method may be useful here."
      ]
     },
     "metadata": {},
     "output_type": "display_data"
    }
   ],
   "source": [
    "q5.hint()\n",
    "# q5.solution()\n",
    "# help(pd.DataFrame)"
   ]
  },
  {
   "cell_type": "markdown",
   "id": "7948907d",
   "metadata": {
    "papermill": {
     "duration": 0.007459,
     "end_time": "2023-02-23T17:31:20.923597",
     "exception": false,
     "start_time": "2023-02-23T17:31:20.916138",
     "status": "completed"
    },
    "tags": []
   },
   "source": [
    "## 6.\n",
    "There are only so many words you can use when describing a bottle of wine. Is a wine more likely to be \"tropical\" or \"fruity\"? Create a Series `descriptor_counts` counting how many times each of these two words appears in the `description` column in the dataset."
   ]
  },
  {
   "cell_type": "code",
   "execution_count": 12,
   "id": "fead05c7",
   "metadata": {
    "execution": {
     "iopub.execute_input": "2023-02-23T17:31:20.941245Z",
     "iopub.status.busy": "2023-02-23T17:31:20.940463Z",
     "iopub.status.idle": "2023-02-23T17:31:21.084883Z",
     "shell.execute_reply": "2023-02-23T17:31:21.083821Z"
    },
    "papermill": {
     "duration": 0.155839,
     "end_time": "2023-02-23T17:31:21.087235",
     "exception": false,
     "start_time": "2023-02-23T17:31:20.931396",
     "status": "completed"
    },
    "tags": []
   },
   "outputs": [
    {
     "data": {
      "application/javascript": [
       "parent.postMessage({\"jupyterEvent\": \"custom.exercise_interaction\", \"data\": {\"outcomeType\": 1, \"valueTowardsCompletion\": 0.14285714285714285, \"interactionType\": 1, \"questionType\": 1, \"questionId\": \"6_DescriptorCounts\", \"learnToolsVersion\": \"0.3.4\", \"failureMessage\": \"\", \"exceptionClass\": \"\", \"trace\": \"\"}}, \"*\")"
      ],
      "text/plain": [
       "<IPython.core.display.Javascript object>"
      ]
     },
     "metadata": {},
     "output_type": "display_data"
    },
    {
     "data": {
      "text/markdown": [
       "<span style=\"color:#33cc33\">Correct</span>"
      ],
      "text/plain": [
       "Correct"
      ]
     },
     "metadata": {},
     "output_type": "display_data"
    }
   ],
   "source": [
    "tropical_val = reviews.description.map(lambda desc: 'tropical' in desc).sum()\n",
    "fruity_val = reviews.description.map(lambda desc: 'fruity' in desc).sum()\n",
    "descriptor_counts = pd.Series([tropical_val, fruity_val], index = ['tropical', 'fruity'])\n",
    "\n",
    "# Check your answer\n",
    "q6.check()"
   ]
  },
  {
   "cell_type": "code",
   "execution_count": 13,
   "id": "e68a2b3b",
   "metadata": {
    "execution": {
     "iopub.execute_input": "2023-02-23T17:31:21.105018Z",
     "iopub.status.busy": "2023-02-23T17:31:21.104609Z",
     "iopub.status.idle": "2023-02-23T17:31:21.113394Z",
     "shell.execute_reply": "2023-02-23T17:31:21.112240Z"
    },
    "papermill": {
     "duration": 0.020702,
     "end_time": "2023-02-23T17:31:21.115915",
     "exception": false,
     "start_time": "2023-02-23T17:31:21.095213",
     "status": "completed"
    },
    "tags": []
   },
   "outputs": [
    {
     "data": {
      "application/javascript": [
       "parent.postMessage({\"jupyterEvent\": \"custom.exercise_interaction\", \"data\": {\"interactionType\": 2, \"questionType\": 1, \"questionId\": \"6_DescriptorCounts\", \"learnToolsVersion\": \"0.3.4\", \"valueTowardsCompletion\": 0.0, \"failureMessage\": \"\", \"exceptionClass\": \"\", \"trace\": \"\", \"outcomeType\": 4}}, \"*\")"
      ],
      "text/plain": [
       "<IPython.core.display.Javascript object>"
      ]
     },
     "metadata": {},
     "output_type": "display_data"
    },
    {
     "data": {
      "text/markdown": [
       "<span style=\"color:#3366cc\">Hint:</span> Use a map to check each description for the string `tropical`, then count up the number of times this is `True`. Repeat this for `fruity`. Finally, create a `Series` combining the two values."
      ],
      "text/plain": [
       "Hint: Use a map to check each description for the string `tropical`, then count up the number of times this is `True`. Repeat this for `fruity`. Finally, create a `Series` combining the two values."
      ]
     },
     "metadata": {},
     "output_type": "display_data"
    }
   ],
   "source": [
    "q6.hint()\n",
    "# q6.solution()"
   ]
  },
  {
   "cell_type": "markdown",
   "id": "add2f752",
   "metadata": {
    "papermill": {
     "duration": 0.00792,
     "end_time": "2023-02-23T17:31:21.132147",
     "exception": false,
     "start_time": "2023-02-23T17:31:21.124227",
     "status": "completed"
    },
    "tags": []
   },
   "source": [
    "## 7.\n",
    "We'd like to host these wine reviews on our website, but a rating system ranging from 80 to 100 points is too hard to understand - we'd like to translate them into simple star ratings. A score of 95 or higher counts as 3 stars, a score of at least 85 but less than 95 is 2 stars. Any other score is 1 star.\n",
    "\n",
    "Also, the Canadian Vintners Association bought a lot of ads on the site, so any wines from Canada should automatically get 3 stars, regardless of points.\n",
    "\n",
    "Create a series `star_ratings` with the number of stars corresponding to each review in the dataset."
   ]
  },
  {
   "cell_type": "code",
   "execution_count": 14,
   "id": "4cd35dcb",
   "metadata": {
    "execution": {
     "iopub.execute_input": "2023-02-23T17:31:21.150309Z",
     "iopub.status.busy": "2023-02-23T17:31:21.149916Z",
     "iopub.status.idle": "2023-02-23T17:31:30.883090Z",
     "shell.execute_reply": "2023-02-23T17:31:30.881881Z"
    },
    "papermill": {
     "duration": 9.745102,
     "end_time": "2023-02-23T17:31:30.885531",
     "exception": false,
     "start_time": "2023-02-23T17:31:21.140429",
     "status": "completed"
    },
    "tags": []
   },
   "outputs": [
    {
     "data": {
      "application/javascript": [
       "parent.postMessage({\"jupyterEvent\": \"custom.exercise_interaction\", \"data\": {\"outcomeType\": 1, \"valueTowardsCompletion\": 0.14285714285714285, \"interactionType\": 1, \"questionType\": 1, \"questionId\": \"7_StarRatings\", \"learnToolsVersion\": \"0.3.4\", \"failureMessage\": \"\", \"exceptionClass\": \"\", \"trace\": \"\"}}, \"*\")"
      ],
      "text/plain": [
       "<IPython.core.display.Javascript object>"
      ]
     },
     "metadata": {},
     "output_type": "display_data"
    },
    {
     "data": {
      "text/markdown": [
       "<span style=\"color:#33cc33\">Correct</span>"
      ],
      "text/plain": [
       "Correct"
      ]
     },
     "metadata": {},
     "output_type": "display_data"
    }
   ],
   "source": [
    "def star_rating(row):\n",
    "    if (row.points >= 95) or (row.country == 'Canada'):\n",
    "        row.points = 3\n",
    "    elif (row.points >=85) and (row.points < 95):\n",
    "        row.points = 2\n",
    "    else:\n",
    "        row.points = 1\n",
    "    return row.points\n",
    "\n",
    "\n",
    "star_ratings = reviews.apply(star_rating, axis='columns')\n",
    "#pd.Series([tropical_val, fruity_val], index = ['tropical', 'fruity'])\n",
    "# Check your answer\n",
    "q7.check()"
   ]
  },
  {
   "cell_type": "code",
   "execution_count": 15,
   "id": "ea9c798b",
   "metadata": {
    "execution": {
     "iopub.execute_input": "2023-02-23T17:31:30.904471Z",
     "iopub.status.busy": "2023-02-23T17:31:30.904060Z",
     "iopub.status.idle": "2023-02-23T17:31:30.912464Z",
     "shell.execute_reply": "2023-02-23T17:31:30.911449Z"
    },
    "papermill": {
     "duration": 0.020408,
     "end_time": "2023-02-23T17:31:30.914597",
     "exception": false,
     "start_time": "2023-02-23T17:31:30.894189",
     "status": "completed"
    },
    "tags": []
   },
   "outputs": [
    {
     "data": {
      "application/javascript": [
       "parent.postMessage({\"jupyterEvent\": \"custom.exercise_interaction\", \"data\": {\"interactionType\": 2, \"questionType\": 1, \"questionId\": \"7_StarRatings\", \"learnToolsVersion\": \"0.3.4\", \"valueTowardsCompletion\": 0.0, \"failureMessage\": \"\", \"exceptionClass\": \"\", \"trace\": \"\", \"outcomeType\": 4}}, \"*\")"
      ],
      "text/plain": [
       "<IPython.core.display.Javascript object>"
      ]
     },
     "metadata": {},
     "output_type": "display_data"
    },
    {
     "data": {
      "text/markdown": [
       "<span style=\"color:#3366cc\">Hint:</span> Begin by writing a custom function that accepts a row from the DataFrame as input and returns the star rating corresponding to the row.  Then, use `DataFrame.apply` to apply the custom function to every row in the dataset."
      ],
      "text/plain": [
       "Hint: Begin by writing a custom function that accepts a row from the DataFrame as input and returns the star rating corresponding to the row.  Then, use `DataFrame.apply` to apply the custom function to every row in the dataset."
      ]
     },
     "metadata": {},
     "output_type": "display_data"
    }
   ],
   "source": [
    "q7.hint()\n",
    "# q7.solution()"
   ]
  },
  {
   "cell_type": "markdown",
   "id": "1fb43262",
   "metadata": {
    "papermill": {
     "duration": 0.008459,
     "end_time": "2023-02-23T17:31:30.931685",
     "exception": false,
     "start_time": "2023-02-23T17:31:30.923226",
     "status": "completed"
    },
    "tags": []
   },
   "source": [
    "# Keep going\n",
    "Continue to **[grouping and sorting](https://www.kaggle.com/residentmario/grouping-and-sorting)**."
   ]
  }
 ],
 "metadata": {
  "kernelspec": {
   "display_name": "Python 3",
   "language": "python",
   "name": "python3"
  },
  "language_info": {
   "codemirror_mode": {
    "name": "ipython",
    "version": 3
   },
   "file_extension": ".py",
   "mimetype": "text/x-python",
   "name": "python",
   "nbconvert_exporter": "python",
   "pygments_lexer": "ipython3",
   "version": "3.7.12"
  },
  "papermill": {
   "default_parameters": {},
   "duration": 107.474634,
   "end_time": "2023-02-23T17:31:31.663485",
   "environment_variables": {},
   "exception": null,
   "input_path": "__notebook__.ipynb",
   "output_path": "__notebook__.ipynb",
   "parameters": {},
   "start_time": "2023-02-23T17:29:44.188851",
   "version": "2.3.4"
  }
 },
 "nbformat": 4,
 "nbformat_minor": 5
}
